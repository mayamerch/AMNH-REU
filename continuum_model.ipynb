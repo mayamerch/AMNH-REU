{
 "cells": [
  {
   "cell_type": "code",
   "execution_count": 8,
   "id": "3c0aac1b",
   "metadata": {},
   "outputs": [],
   "source": [
    "import numpy as np\n",
    "from matplotlib import pyplot as plt\n",
    "import matplotlib.pylab as plb\n",
    "import pandas as pd\n",
    "import scipy\n",
    "import astropy\n",
    "import os\n",
    "import radmc3dPy\n",
    "from radmc3dPy import *"
   ]
  },
  {
   "cell_type": "code",
   "execution_count": 60,
   "id": "056c2397",
   "metadata": {},
   "outputs": [
    {
     "name": "stdout",
     "output_type": "stream",
     "text": [
      "1496000000000000.0\n"
     ]
    }
   ],
   "source": [
    "print(radmc3dPy.params.rdisk)"
   ]
  },
  {
   "cell_type": "code",
   "execution_count": 10,
   "id": "bb2f34be",
   "metadata": {},
   "outputs": [
    {
     "data": {
      "text/plain": [
       "'/Users/Maya/Desktop/radmc3d-2.0/python/radmc3dPy'"
      ]
     },
     "execution_count": 10,
     "metadata": {},
     "output_type": "execute_result"
    }
   ],
   "source": [
    "os.getcwd()"
   ]
  },
  {
   "cell_type": "code",
   "execution_count": 11,
   "id": "e536114b",
   "metadata": {},
   "outputs": [],
   "source": [
    "os.chdir('/Users/Maya/Desktop/radmc3d-2.0/python/radmc3dPy/')"
   ]
  },
  {
   "cell_type": "code",
   "execution_count": 12,
   "id": "6e87555f",
   "metadata": {},
   "outputs": [
    {
     "data": {
      "text/plain": [
       "'/Users/Maya/Desktop/radmc3d-2.0/python/radmc3dPy'"
      ]
     },
     "execution_count": 12,
     "metadata": {},
     "output_type": "execute_result"
    }
   ],
   "source": [
    "os.getcwd()"
   ]
  },
  {
   "cell_type": "markdown",
   "id": "92871772",
   "metadata": {},
   "source": [
    "## Model setup"
   ]
  },
  {
   "cell_type": "markdown",
   "id": "82fcae7d",
   "metadata": {},
   "source": [
    "To check what models are available:"
   ]
  },
  {
   "cell_type": "code",
   "execution_count": 13,
   "id": "654159ec",
   "metadata": {},
   "outputs": [
    {
     "data": {
      "text/plain": [
       "['lines_nlte_lvg_1d_1',\n",
       " 'ppdisk',\n",
       " 'ppdisk_acc',\n",
       " 'ppdisk_amr',\n",
       " 'simple_1',\n",
       " 'spher1d_1',\n",
       " 'spher2d_1']"
      ]
     },
     "execution_count": 13,
     "metadata": {},
     "output_type": "execute_result"
    }
   ],
   "source": [
    "models.getModelNames()"
   ]
  },
  {
   "cell_type": "code",
   "execution_count": 14,
   "id": "0634e190",
   "metadata": {},
   "outputs": [
    {
     "data": {
      "text/plain": [
       "['__builtins__',\n",
       " '__cached__',\n",
       " '__doc__',\n",
       " '__file__',\n",
       " '__loader__',\n",
       " '__name__',\n",
       " '__package__',\n",
       " '__spec__',\n",
       " 'aa',\n",
       " 'absolute_import',\n",
       " 'analyze',\n",
       " 'angs',\n",
       " 'au',\n",
       " 'cc',\n",
       " 'day',\n",
       " 'dju',\n",
       " 'dmo',\n",
       " 'ee',\n",
       " 'ev',\n",
       " 'getDefaultParams',\n",
       " 'getDustDensity',\n",
       " 'getGasAbundance',\n",
       " 'getGasDensity',\n",
       " 'getModelDesc',\n",
       " 'getVTurb',\n",
       " 'getVelocity',\n",
       " 'gg',\n",
       " 'hh',\n",
       " 'hour',\n",
       " 'kev',\n",
       " 'kk',\n",
       " 'km',\n",
       " 'ls',\n",
       " 'me',\n",
       " 'mea',\n",
       " 'micr',\n",
       " 'mju',\n",
       " 'mmo',\n",
       " 'mp',\n",
       " 'ms',\n",
       " 'muh2',\n",
       " 'np',\n",
       " 'pc',\n",
       " 'print_function',\n",
       " 'rea',\n",
       " 'rju',\n",
       " 'rmo',\n",
       " 'rs',\n",
       " 'ss',\n",
       " 'st',\n",
       " 'traceback',\n",
       " 'ts',\n",
       " 'warnings',\n",
       " 'year']"
      ]
     },
     "execution_count": 14,
     "metadata": {},
     "output_type": "execute_result"
    }
   ],
   "source": [
    "dir(models.ppdisk)"
   ]
  },
  {
   "cell_type": "code",
   "execution_count": 15,
   "id": "a408fc3d",
   "metadata": {
    "scrolled": true
   },
   "outputs": [
    {
     "name": "stdout",
     "output_type": "stream",
     "text": [
      "-1.0\n"
     ]
    }
   ],
   "source": [
    "print(float(models.ppdisk.getDefaultParams()[21][1]))"
   ]
  },
  {
   "cell_type": "code",
   "execution_count": null,
   "id": "9153af32",
   "metadata": {},
   "outputs": [],
   "source": []
  },
  {
   "cell_type": "markdown",
   "id": "9fcd4230",
   "metadata": {},
   "source": [
    "How to get a brief description:</font>"
   ]
  },
  {
   "cell_type": "code",
   "execution_count": 16,
   "id": "73477cdd",
   "metadata": {},
   "outputs": [
    {
     "ename": "AttributeError",
     "evalue": "'NoneType' object has no attribute 'x'",
     "output_type": "error",
     "traceback": [
      "\u001b[0;31m---------------------------------------------------------------------------\u001b[0m",
      "\u001b[0;31mAttributeError\u001b[0m                            Traceback (most recent call last)",
      "\u001b[0;32m<ipython-input-16-4379a0a35883>\u001b[0m in \u001b[0;36m<module>\u001b[0;34m\u001b[0m\n\u001b[0;32m----> 1\u001b[0;31m \u001b[0mprint\u001b[0m\u001b[0;34m(\u001b[0m\u001b[0mmodels\u001b[0m\u001b[0;34m.\u001b[0m\u001b[0mppdisk\u001b[0m\u001b[0;34m.\u001b[0m\u001b[0mgetGasDensity\u001b[0m\u001b[0;34m(\u001b[0m\u001b[0;34m)\u001b[0m\u001b[0;34m)\u001b[0m\u001b[0;34m\u001b[0m\u001b[0;34m\u001b[0m\u001b[0m\n\u001b[0m",
      "\u001b[0;32m~/Desktop/radmc3d-2.0/python/radmc3dPy/radmc3dPy/models/ppdisk.py\u001b[0m in \u001b[0;36mgetGasDensity\u001b[0;34m(grid, ppar)\u001b[0m\n\u001b[1;32m    210\u001b[0m     \"\"\"\n\u001b[1;32m    211\u001b[0m \u001b[0;34m\u001b[0m\u001b[0m\n\u001b[0;32m--> 212\u001b[0;31m     \u001b[0mrr\u001b[0m\u001b[0;34m,\u001b[0m \u001b[0mth\u001b[0m \u001b[0;34m=\u001b[0m \u001b[0mnp\u001b[0m\u001b[0;34m.\u001b[0m\u001b[0mmeshgrid\u001b[0m\u001b[0;34m(\u001b[0m\u001b[0mgrid\u001b[0m\u001b[0;34m.\u001b[0m\u001b[0mx\u001b[0m\u001b[0;34m,\u001b[0m \u001b[0mgrid\u001b[0m\u001b[0;34m.\u001b[0m\u001b[0my\u001b[0m\u001b[0;34m)\u001b[0m\u001b[0;34m\u001b[0m\u001b[0;34m\u001b[0m\u001b[0m\n\u001b[0m\u001b[1;32m    213\u001b[0m     \u001b[0mzz\u001b[0m \u001b[0;34m=\u001b[0m \u001b[0mrr\u001b[0m \u001b[0;34m*\u001b[0m \u001b[0mnp\u001b[0m\u001b[0;34m.\u001b[0m\u001b[0mcos\u001b[0m\u001b[0;34m(\u001b[0m\u001b[0mth\u001b[0m\u001b[0;34m)\u001b[0m\u001b[0;34m\u001b[0m\u001b[0;34m\u001b[0m\u001b[0m\n\u001b[1;32m    214\u001b[0m     \u001b[0mrcyl\u001b[0m \u001b[0;34m=\u001b[0m \u001b[0mrr\u001b[0m \u001b[0;34m*\u001b[0m \u001b[0mnp\u001b[0m\u001b[0;34m.\u001b[0m\u001b[0msin\u001b[0m\u001b[0;34m(\u001b[0m\u001b[0mth\u001b[0m\u001b[0;34m)\u001b[0m\u001b[0;34m\u001b[0m\u001b[0;34m\u001b[0m\u001b[0m\n",
      "\u001b[0;31mAttributeError\u001b[0m: 'NoneType' object has no attribute 'x'"
     ]
    }
   ],
   "source": [
    "print(models.ppdisk.getGasDensity())"
   ]
  },
  {
   "cell_type": "code",
   "execution_count": 17,
   "id": "88875f43",
   "metadata": {},
   "outputs": [
    {
     "data": {
      "text/plain": [
       "['__builtins__',\n",
       " '__cached__',\n",
       " '__doc__',\n",
       " '__file__',\n",
       " '__loader__',\n",
       " '__name__',\n",
       " '__package__',\n",
       " '__spec__',\n",
       " 'aa',\n",
       " 'absolute_import',\n",
       " 'analyze',\n",
       " 'angs',\n",
       " 'au',\n",
       " 'cc',\n",
       " 'day',\n",
       " 'dju',\n",
       " 'dmo',\n",
       " 'ee',\n",
       " 'ev',\n",
       " 'getDefaultParams',\n",
       " 'getDustDensity',\n",
       " 'getGasAbundance',\n",
       " 'getGasDensity',\n",
       " 'getModelDesc',\n",
       " 'getVTurb',\n",
       " 'getVelocity',\n",
       " 'gg',\n",
       " 'hh',\n",
       " 'hour',\n",
       " 'kev',\n",
       " 'kk',\n",
       " 'km',\n",
       " 'ls',\n",
       " 'me',\n",
       " 'mea',\n",
       " 'micr',\n",
       " 'mju',\n",
       " 'mmo',\n",
       " 'mp',\n",
       " 'ms',\n",
       " 'muh2',\n",
       " 'np',\n",
       " 'pc',\n",
       " 'print_function',\n",
       " 'rea',\n",
       " 'rju',\n",
       " 'rmo',\n",
       " 'rs',\n",
       " 'ss',\n",
       " 'st',\n",
       " 'traceback',\n",
       " 'ts',\n",
       " 'warnings',\n",
       " 'year']"
      ]
     },
     "execution_count": 17,
     "metadata": {},
     "output_type": "execute_result"
    }
   ],
   "source": [
    "dir(models.ppdisk)"
   ]
  },
  {
   "cell_type": "code",
   "execution_count": null,
   "id": "1bef5910",
   "metadata": {},
   "outputs": [],
   "source": [
    "# change this, specify sig_0 as the sig3 for the black one, do everything\n",
    "# with the model like before, and make an image for this model, everything\n",
    "# else the same\n",
    "# see which model in radmc has exponential cutoff, instead of ppdisk\n",
    "# exponential cutoff model (ppdisk) and ppdisk"
   ]
  },
  {
   "cell_type": "code",
   "execution_count": 61,
   "id": "2a12931c",
   "metadata": {
    "scrolled": true
   },
   "outputs": [
    {
     "name": "stdout",
     "output_type": "stream",
     "text": [
      "Writing problem_params.inp\n",
      "Writing dustopac.inp\n",
      "Writing wavelength_micron.inp\n",
      "Writing amr_grid.inp\n",
      "Writing stars.inp\n",
      "-------------------------------------------------------------\n",
      "Luminosities of radiation sources in the model :\n",
      "Reading wavelength_micron.inp\n",
      "As calculated from the input files :\n",
      "Stars : \n",
      "  Star #0 + hotspot        : 3.564346e+33\n",
      "Continuous starlike source : 0.000000e+00\n",
      " \n",
      "-------------------------------------------------------------\n",
      "Writing dust_density.binp\n",
      "Writing radmc3d.inp\n"
     ]
    }
   ],
   "source": [
    "setup.problemSetupDust('ppdisk', mdisk='1e-5*ms', gap_rin='[10.0*au]', gap_rout='[40.*au]', gap_drfact='[1e-5]', nz='0')"
   ]
  },
  {
   "cell_type": "code",
   "execution_count": 19,
   "id": "198a49c8",
   "metadata": {},
   "outputs": [
    {
     "data": {
      "text/plain": [
       "'Generic protoplanetary disk model'"
      ]
     },
     "execution_count": 19,
     "metadata": {},
     "output_type": "execute_result"
    }
   ],
   "source": [
    "models.getModelDesc('ppdisk')"
   ]
  },
  {
   "cell_type": "markdown",
   "id": "93cfd2f9",
   "metadata": {},
   "source": [
    "We need master parameter file containing all parameters of the model to create the model. Every model in the library has a default set of parameters. We can create the parameter file:"
   ]
  },
  {
   "cell_type": "markdown",
   "id": "87fbab0d",
   "metadata": {},
   "source": [
    "To read the parameters from this file:"
   ]
  },
  {
   "cell_type": "code",
   "execution_count": 20,
   "id": "f3f1c1ab",
   "metadata": {},
   "outputs": [
    {
     "name": "stdout",
     "output_type": "stream",
     "text": [
      "Writing problem_params.inp\n"
     ]
    }
   ],
   "source": [
    "analyze.writeDefaultParfile('ppdisk')"
   ]
  },
  {
   "cell_type": "code",
   "execution_count": 21,
   "id": "171853cf",
   "metadata": {
    "scrolled": true
   },
   "outputs": [],
   "source": [
    "par = analyze.readParams()"
   ]
  },
  {
   "cell_type": "code",
   "execution_count": null,
   "id": "aeb653ee",
   "metadata": {},
   "outputs": [],
   "source": []
  },
  {
   "cell_type": "code",
   "execution_count": 22,
   "id": "f130ef7d",
   "metadata": {},
   "outputs": [
    {
     "name": "stdout",
     "output_type": "stream",
     "text": [
      "# -------------------------------------------------------------------------------------------------------------------------\n",
      "# Block: Radiation sources\n",
      "# -------------------------------------------------------------------------------------------------------------------------\n",
      "incl_cont_stellarsrc      = False  # # Switches on (True) or off (False) continuous stellar sources )\n",
      "incl_disc_stellarsrc      = True  # # Switches on (True) or off (False) discrete stellar sources)\n",
      "mstar                     = [1.0*ms]  # # Mass of the star(s)\n",
      "pstar                     = [0.0, 0.0, 0.0]  # # Position of the star(s) (cartesian coordinates)\n",
      "rstar                     = [2.0*rs]  # # Radius of the star(s)\n",
      "staremis_type             = [\"blackbody\"]  # # Stellar emission type (\"blackbody\", \"kurucz\", \"nextgen\")\n",
      "tstar                     = [4000.0]  # # Effective temperature of the star(s) [K]\n",
      "# -------------------------------------------------------------------------------------------------------------------------\n",
      "# Block: Grid parameters\n",
      "# -------------------------------------------------------------------------------------------------------------------------\n",
      "crd_sys                   = 'sph'  # Coordinate system used (car/sph)\n",
      "grid_style                = 0  # 0 - Regular grid, 1 - Octree AMR, 10 - Layered/nested grid (not yet supported)\n",
      "levelMaxLimit             = 5  # Highest refinement level in octree AMR\n",
      "nw                        = [19, 50, 30]  # Number of points in the wavelength grid\n",
      "nx                        = [30,50]  # Number of grid points in the first dimension (to switch off this dimension set it to 0)\n",
      "ny                        = [10,30,30,10]  # Number of grid points in the second dimension (to switch off this dimension set it to 0)\n",
      "nz                        = 30  # Number of grid points in the third dimension (to switch off this dimension set it to 0)\n",
      "wbound                    = [0.1, 7.0, 25., 1e4]  # Boundraries for the wavelength grid\n",
      "xbound                    = [1.0*au,1.05*au, 100.0*au]  # Boundaries for the x grid\n",
      "xres_nlev                 = 3  # Number of refinement levels (spherical coordinates only\n",
      "xres_nspan                = 3  # Number of the original grid cells to refine (spherical coordinates only)\n",
      "xres_nstep                = 3  # Number of grid cells to create in a refinement level (spherical coordinates only)\n",
      "ybound                    = [0., pi/3., pi/2., 2.*pi/3., pi]  # Boundaries for the y grid\n",
      "zbound                    = [0., 2.0*pi]  # Boundraries for the z grid\n",
      "# -------------------------------------------------------------------------------------------------------------------------\n",
      "# Block: Dust opacity\n",
      "# -------------------------------------------------------------------------------------------------------------------------\n",
      "chopforwardt              = 0.0  # If >0 this gives the angle (in degrees from forward) within which the scattering phase function should be kept constant\n",
      "dustkappa_ext             = ['silicate']  # \n",
      "errtol                    = 0.01  # Tolerance of the relative difference between kscat and the integral over the zscat Z11 element over angle.\n",
      "extrapolate               = True  # If True extrapolates for wavelengths outside the ones covered by the optical constants\n",
      "gdens                     = [3.6, 1.8]  # Bulk density of the materials in g/cm^3\n",
      "gsdist_powex              = -3.5  # Grain size distribution power exponent\n",
      "gsmax                     = 10.0  # Maximum grain size\n",
      "gsmin                     = 0.1  # Minimum grain size\n",
      "lnk_fname                 = ['/disk2/juhasz/Data/JPDOC/astrosil/astrosil_WD2001_new.lnk']  # \n",
      "logawidth                 = 0  # If >0 the opacity will be averaged over a small sample around the specified grain size, with logawidth being the variance of the Gaussian distribution.\n",
      "mixabun                   = [0.75, 0.25]  # Mass fractions of the dust componetns to be mixed\n",
      "na                        = 20  # Number of size sampling points (if logawidth set, default\n",
      "ngs                       = 1  # Number of grain sizes\n",
      "nscatang                  = 180  # Number of scattering angles (only for scattering_mode_max\n",
      "verbose                   = False  # If set to True, the code will give some feedback so that one knows what it is doing if it becomes slow.\n",
      "wfact                     = 3.0  # Grid width of na sampling points in units of logawidth.\n",
      "# -------------------------------------------------------------------------------------------------------------------------\n",
      "# Block: Gas line RT\n",
      "# -------------------------------------------------------------------------------------------------------------------------\n",
      "gasspec_colpart_abun      = [1e0]  # Abundance of the molecule\n",
      "gasspec_colpart_name      = ['h2']  # Name of the gas species - the extension of the molecule_EXT.inp file\n",
      "gasspec_mol_abun          = [1e-4]  # Abundance of the molecule\n",
      "gasspec_mol_dbase_type    = ['leiden']  # leiden or linelist\n",
      "gasspec_mol_name          = ['co']  # Name of the gas species - the extension of the molecule_EXT.inp file\n",
      "gasspec_vturb             = 0.2e5  # Microturbulence\n",
      "# -------------------------------------------------------------------------------------------------------------------------\n",
      "# Block: Code parameters\n",
      "# -------------------------------------------------------------------------------------------------------------------------\n",
      "istar_sphere              = 0  # 1 - take into account the finite size of the star, 0 - take the star to be point-like\n",
      "itempdecoup               = 1  # Enable for different dust components to have different temperatures\n",
      "lines_mode                = -1  # Line raytracing mode\n",
      "modified_random_walk      = 0  # Switched on (1) and off (0) modified random walk\n",
      "nphot                     = int(1e5)  # Nr of photons for the thermal Monte Carlo\n",
      "nphot_scat                = int(3e5)  # Nr of photons for the scattering Monte Carlo (for images)\n",
      "nphot_spec                = int(1e5)  # Nr of photons for the scattering Monte Carlo (for spectra)\n",
      "rto_style                 = 1  # Format of outpuf files (1-ascii, 2-unformatted f77, 3-binary\n",
      "scattering_mode_max       = 1  # 0 - no scattering, 1 - isotropic scattering, 2 - anizotropic scattering\n",
      "tgas_eq_tdust             = 1  # Take the dust temperature to identical to the gas temperature\n",
      "# -------------------------------------------------------------------------------------------------------------------------\n",
      "# Block: Model ppdisk\n",
      "# -------------------------------------------------------------------------------------------------------------------------\n",
      "bgdens                    = 1e-30  # Background density (g/cm^3)\n",
      "dusttogas                 = 0.01  # Dust-to-gas mass ratio\n",
      "gap_drfact                = [0e0]  # Density reduction factor in the gap\n",
      "gap_rin                   = [0e0*au]  # Inner radius of the gap\n",
      "gap_rout                  = [0e0*au]  # Outer radius of the gap\n",
      "gasspec_mol_dissoc_taulim = [1.0]  # Continuum optical depth limit below which all molecules dissociate\n",
      "gasspec_mol_freezeout_dfact = [1e-3]  # Factor by which the molecular abundance should be decreased in the frezze-out zone\n",
      "gasspec_mol_freezeout_temp = [19.0]  # Freeze-out temperature of the molecules in Kelvin\n",
      "hpr_prim_rout             = 0.0  # Pressure scale height at rin\n",
      "hrdisk                    = 0.1  # Ratio of the pressure scale height over radius at hrpivot\n",
      "hrpivot                   = 100.0*au  # Reference radius at which Hp/R is taken\n",
      "mdisk                     = 1e-3*ms  # Mass of the disk (either sig0 or mdisk should be set to zero or commented out)\n",
      "plh                       = 1./7.  # Flaring index\n",
      "plsig1                    = -1.0  # Power exponent of the surface density distribution as a function of radius\n",
      "prim_rout                 = 0.0  # Outer boundary of the puffed-up inner rim in terms of rin\n",
      "rdisk                     = 100.0*au  # Outer radius of the disk\n",
      "rin                       = 1.0*au  # Inner radius of the disk\n",
      "sig0                      = 0.0  # Surface density at rdisk\n",
      "sigma_type                = 0  # Surface density type (0 - polynomial, 1 - exponential outer edge (viscous self-similar solution)\n",
      "srim_plsig                = 0.0  # Power exponent of the density reduction inside of srim_rout*rin\n",
      "srim_rout                 = 0.0  # Outer boundary of the smoothing in the inner rim in terms of rin\n"
     ]
    }
   ],
   "source": [
    "par.printPar()"
   ]
  },
  {
   "cell_type": "markdown",
   "id": "d5f66111",
   "metadata": {},
   "source": [
    "## Simple setup"
   ]
  },
  {
   "cell_type": "markdown",
   "id": "1abcbfc5",
   "metadata": {},
   "source": [
    "Setting up the model and creating all necessary input files for RADMC-3D:"
   ]
  },
  {
   "cell_type": "code",
   "execution_count": 23,
   "id": "3340f90c",
   "metadata": {},
   "outputs": [
    {
     "name": "stdout",
     "output_type": "stream",
     "text": [
      "Writing problem_params.inp\n",
      "Writing dustopac.inp\n",
      "Writing wavelength_micron.inp\n",
      "Writing amr_grid.inp\n",
      "Writing stars.inp\n",
      "-------------------------------------------------------------\n",
      "Luminosities of radiation sources in the model :\n",
      "Reading wavelength_micron.inp\n",
      "As calculated from the input files :\n",
      "Stars : \n",
      "  Star #0 + hotspot        : 3.564346e+33\n",
      "Continuous starlike source : 0.000000e+00\n",
      " \n",
      "-------------------------------------------------------------\n",
      "Writing dust_density.binp\n",
      "Writing radmc3d.inp\n"
     ]
    }
   ],
   "source": [
    "setup.problemSetupDust('ppdisk', mdisk='1e-5*ms', gap_rin='[10.0*au]', gap_rout='[40.*au]', gap_drfact='[1e-5]', nz='0')"
   ]
  },
  {
   "cell_type": "markdown",
   "id": "4c2bf0aa",
   "metadata": {},
   "source": [
    "If any keyword argument will be passed to problemSetupDust() it will be used to override the parameters in problem_params.inp:"
   ]
  },
  {
   "cell_type": "code",
   "execution_count": 24,
   "id": "d4af3861",
   "metadata": {},
   "outputs": [
    {
     "name": "stdout",
     "output_type": "stream",
     "text": [
      "Writing problem_params.inp\n",
      "Writing dustopac.inp\n",
      "Writing wavelength_micron.inp\n",
      "Writing amr_grid.inp\n",
      "Writing stars.inp\n",
      "-------------------------------------------------------------\n",
      "Luminosities of radiation sources in the model :\n",
      "Reading wavelength_micron.inp\n",
      "As calculated from the input files :\n",
      "Stars : \n",
      "  Star #0 + hotspot        : 3.564346e+33\n",
      "Continuous starlike source : 0.000000e+00\n",
      " \n",
      "-------------------------------------------------------------\n",
      "Writing dust_density.binp\n",
      "Writing radmc3d.inp\n"
     ]
    }
   ],
   "source": [
    "setup.problemSetupDust('ppdisk', mdisk='1e-4*ms')"
   ]
  },
  {
   "cell_type": "markdown",
   "id": "e9fe3623",
   "metadata": {},
   "source": [
    "## Modular setup"
   ]
  },
  {
   "cell_type": "markdown",
   "id": "2671af9e",
   "metadata": {},
   "source": [
    "Generating input files separately:"
   ]
  },
  {
   "cell_type": "code",
   "execution_count": 25,
   "id": "ef4eccce",
   "metadata": {},
   "outputs": [
    {
     "name": "stdout",
     "output_type": "stream",
     "text": [
      "Writing problem_params.inp\n"
     ]
    }
   ],
   "source": [
    "model = radmc3dPy.setup.radmc3dModel(model='ppdisk', mdisk='1e-5*ms', gap_rin='[10.0*au]', gap_rout='[40.*au]', gap_drfact='[1e-5]', nz='0')"
   ]
  },
  {
   "cell_type": "code",
   "execution_count": 26,
   "id": "39de2fb3",
   "metadata": {
    "scrolled": true
   },
   "outputs": [
    {
     "name": "stdout",
     "output_type": "stream",
     "text": [
      "Writing radmc3d.inp\n"
     ]
    }
   ],
   "source": [
    "model.writeRadmc3dInp()"
   ]
  },
  {
   "cell_type": "code",
   "execution_count": 27,
   "id": "5935f896",
   "metadata": {},
   "outputs": [
    {
     "name": "stdout",
     "output_type": "stream",
     "text": [
      "Writing wavelength_micron.inp\n",
      "Writing amr_grid.inp\n"
     ]
    }
   ],
   "source": [
    "model.makeGrid(writeToFile=True)"
   ]
  },
  {
   "cell_type": "code",
   "execution_count": 28,
   "id": "e51c2cf9",
   "metadata": {},
   "outputs": [
    {
     "name": "stdout",
     "output_type": "stream",
     "text": [
      "Writing stars.inp\n",
      "-------------------------------------------------------------\n",
      "Luminosities of radiation sources in the model :\n",
      "Reading wavelength_micron.inp\n",
      "As calculated from the input files :\n",
      "Stars : \n",
      "  Star #0 + hotspot        : 3.564346e+33\n",
      "Continuous starlike source : 0.000000e+00\n",
      " \n",
      "-------------------------------------------------------------\n"
     ]
    }
   ],
   "source": [
    "model.makeRadSources(writeToFile=True)"
   ]
  },
  {
   "cell_type": "code",
   "execution_count": 29,
   "id": "7df8c8f7",
   "metadata": {},
   "outputs": [
    {
     "name": "stdout",
     "output_type": "stream",
     "text": [
      "Writing dustopac.inp\n"
     ]
    }
   ],
   "source": [
    "model.makeDustOpac()"
   ]
  },
  {
   "cell_type": "code",
   "execution_count": 30,
   "id": "f27094d3",
   "metadata": {},
   "outputs": [
    {
     "name": "stdout",
     "output_type": "stream",
     "text": [
      "Writing dust_density.binp\n"
     ]
    }
   ],
   "source": [
    "model.makeVar(ddens=True, writeToFile=True)"
   ]
  },
  {
   "cell_type": "markdown",
   "id": "485e7f3d",
   "metadata": {},
   "source": [
    "## Read the model structure"
   ]
  },
  {
   "cell_type": "code",
   "execution_count": 31,
   "id": "432c36f4",
   "metadata": {},
   "outputs": [
    {
     "name": "stdout",
     "output_type": "stream",
     "text": [
      "Reading amr_grid.inp\n",
      "Reading wavelength_micron.inp\n",
      "Warning: Multiple files basename dust_density found. Taking dust_density.binp\n",
      "Reading dust_density.binp\n"
     ]
    }
   ],
   "source": [
    "data = analyze.readData(ddens=True)"
   ]
  },
  {
   "cell_type": "code",
   "execution_count": null,
   "id": "a3c41db2",
   "metadata": {},
   "outputs": [],
   "source": []
  },
  {
   "cell_type": "markdown",
   "id": "fa4b0597",
   "metadata": {},
   "source": [
    "## Diagnostic plots"
   ]
  },
  {
   "cell_type": "markdown",
   "id": "09fc0154",
   "metadata": {},
   "source": [
    "### Dust density contours"
   ]
  },
  {
   "cell_type": "code",
   "execution_count": 32,
   "id": "07bc2cad",
   "metadata": {},
   "outputs": [
    {
     "data": {
      "image/png": "[encoded data removed]",
      "text/plain": [
       "<Figure size 432x288 with 2 Axes>"
      ]
     },
     "metadata": {
      "needs_background": "light"
     },
     "output_type": "display_data"
    }
   ],
   "source": [
    "c = plb.contourf(data.grid.x/natconst.au, np.pi/2.-data.grid.y, np.log10(data.rhodust[:,:,0,0].T), 30)\n",
    "plb.xlabel('r [AU]')\n",
    "plb.ylabel(r'$\\pi/2-\\theta$')\n",
    "plb.xscale('log')\n",
    "cb = plb.colorbar(c)\n",
    "cb.set_label(r'$\\log_{10}{\\rho}$', rotation=270.)"
   ]
  },
  {
   "cell_type": "markdown",
   "id": "42315c31",
   "metadata": {},
   "source": [
    "### Dust opacity"
   ]
  },
  {
   "cell_type": "markdown",
   "id": "f677abfe",
   "metadata": {},
   "source": [
    "##### Changing directory to access dustkappa_silicate.inp"
   ]
  },
  {
   "cell_type": "code",
   "execution_count": 33,
   "id": "84940a07",
   "metadata": {},
   "outputs": [],
   "source": [
    "os.chdir('/Users/Maya/Desktop/radmc3d-2.0/python/radmc3dPy/python_examples/datafiles')"
   ]
  },
  {
   "cell_type": "code",
   "execution_count": 34,
   "id": "3ddc47a9",
   "metadata": {},
   "outputs": [
    {
     "name": "stdout",
     "output_type": "stream",
     "text": [
      "Reading dustkappa_silicate.inp\n"
     ]
    }
   ],
   "source": [
    "opac = analyze.readOpac(ext=['silicate'])"
   ]
  },
  {
   "cell_type": "code",
   "execution_count": 35,
   "id": "f5327ea9",
   "metadata": {},
   "outputs": [
    {
     "name": "stdout",
     "output_type": "stream",
     "text": [
      "Reading dustkappa_silicate.inp\n"
     ]
    }
   ],
   "source": [
    "opac = analyze.readOpac(idust=[0])"
   ]
  },
  {
   "cell_type": "code",
   "execution_count": 36,
   "id": "59fcd33a",
   "metadata": {},
   "outputs": [
    {
     "data": {
      "text/plain": [
       "Text(0, 0.5, '$\\\\kappa_{\\\\rm abs}$ [cm$^2$/g]')"
      ]
     },
     "execution_count": 36,
     "metadata": {},
     "output_type": "execute_result"
    },
    {
     "data": {
      "image/png": "[encoded data removed]",
      "text/plain": [
       "<Figure size 432x288 with 1 Axes>"
      ]
     },
     "metadata": {
      "needs_background": "light"
     },
     "output_type": "display_data"
    }
   ],
   "source": [
    "plb.loglog(opac.wav[0], opac.kabs[0])\n",
    "plb.xlabel(r'$\\lambda$ [$\\mu$m]')\n",
    "plb.ylabel(r'$\\kappa_{\\rm abs}$ [cm$^2$/g]')"
   ]
  },
  {
   "cell_type": "markdown",
   "id": "6912ceb1",
   "metadata": {},
   "source": [
    "### Optical depth"
   ]
  },
  {
   "cell_type": "code",
   "execution_count": 37,
   "id": "bd17855c",
   "metadata": {},
   "outputs": [],
   "source": [
    "os.chdir('/Users/Maya/Desktop/radmc3d-2.0/python/radmc3dPy/python_examples/datafiles')"
   ]
  },
  {
   "cell_type": "code",
   "execution_count": 38,
   "id": "e59a05d9",
   "metadata": {},
   "outputs": [
    {
     "name": "stdout",
     "output_type": "stream",
     "text": [
      "Reading dustkappa_silicate.inp\n",
      "Opacity at 0.50um :  28460.764433351476\n"
     ]
    }
   ],
   "source": [
    "data.getTau(wav=0.5)"
   ]
  },
  {
   "cell_type": "code",
   "execution_count": 39,
   "id": "1cff1aac",
   "metadata": {},
   "outputs": [],
   "source": [
    "#os.chdir('/Users/Maya/Desktop/radmc3d-2.0/python/radmc3dPy/')"
   ]
  },
  {
   "cell_type": "code",
   "execution_count": 40,
   "id": "e6803642",
   "metadata": {},
   "outputs": [
    {
     "data": {
      "text/plain": [
       "<a list of 1 text.Text objects>"
      ]
     },
     "execution_count": 40,
     "metadata": {},
     "output_type": "execute_result"
    },
    {
     "data": {
      "image/png": "[encoded data removed]",
      "text/plain": [
       "<Figure size 432x288 with 1 Axes>"
      ]
     },
     "metadata": {
      "needs_background": "light"
     },
     "output_type": "display_data"
    }
   ],
   "source": [
    "c = plb.contour(data.grid.x/natconst.au, np.pi/2.-data.grid.y, data.taux[:,:,0].T, [1.0],  colors='w', linestyles='solid')\n",
    "plb.clabel(c, inline=1, fontsize=10)"
   ]
  },
  {
   "cell_type": "markdown",
   "id": "3528a91d",
   "metadata": {},
   "source": [
    "### Run the thermal MC"
   ]
  },
  {
   "cell_type": "code",
   "execution_count": 41,
   "id": "a40a65d7",
   "metadata": {},
   "outputs": [
    {
     "data": {
      "text/plain": [
       "32512"
      ]
     },
     "execution_count": 41,
     "metadata": {},
     "output_type": "execute_result"
    }
   ],
   "source": [
    "import os\n",
    "os.system('radmc3d mctherm')"
   ]
  },
  {
   "cell_type": "markdown",
   "id": "ef8946d9",
   "metadata": {},
   "source": [
    "### Dust temperature contours"
   ]
  },
  {
   "cell_type": "code",
   "execution_count": 42,
   "id": "b2d31b69",
   "metadata": {},
   "outputs": [
    {
     "name": "stdout",
     "output_type": "stream",
     "text": [
      "Reading amr_grid.inp\n",
      "Reading wavelength_micron.inp\n",
      "Reading dust_temperature.bdat\n",
      "Reading dust_temperature.bdat\n"
     ]
    }
   ],
   "source": [
    "data = analyze.readData(dtemp=True)\n",
    "data.readDustTemp()"
   ]
  },
  {
   "cell_type": "code",
   "execution_count": 43,
   "id": "a91b8948",
   "metadata": {},
   "outputs": [
    {
     "data": {
      "text/plain": [
       "['__class__',\n",
       " '__delattr__',\n",
       " '__dict__',\n",
       " '__dir__',\n",
       " '__doc__',\n",
       " '__eq__',\n",
       " '__format__',\n",
       " '__ge__',\n",
       " '__getattribute__',\n",
       " '__gt__',\n",
       " '__hash__',\n",
       " '__init__',\n",
       " '__init_subclass__',\n",
       " '__le__',\n",
       " '__lt__',\n",
       " '__module__',\n",
       " '__ne__',\n",
       " '__new__',\n",
       " '__reduce__',\n",
       " '__reduce_ex__',\n",
       " '__repr__',\n",
       " '__setattr__',\n",
       " '__sizeof__',\n",
       " '__str__',\n",
       " '__subclasshook__',\n",
       " '__weakref__',\n",
       " '_findDataFile',\n",
       " '_isBinary',\n",
       " '_scalarfieldReader',\n",
       " '_scalarfieldWriter',\n",
       " 'dusttemp',\n",
       " 'gastemp',\n",
       " 'gasvel',\n",
       " 'getDustMass',\n",
       " 'getGasMass',\n",
       " 'getSigmaDust',\n",
       " 'getSigmaGas',\n",
       " 'getTau',\n",
       " 'getTauOneDust',\n",
       " 'grid',\n",
       " 'ndens_cp',\n",
       " 'ndens_mol',\n",
       " 'octree',\n",
       " 'readDustDens',\n",
       " 'readDustTemp',\n",
       " 'readGasDens',\n",
       " 'readGasTemp',\n",
       " 'readGasVel',\n",
       " 'readVTurb',\n",
       " 'rhodust',\n",
       " 'rhogas',\n",
       " 'sigmadust',\n",
       " 'sigmagas',\n",
       " 'taux',\n",
       " 'tauy',\n",
       " 'tauz',\n",
       " 'vturb',\n",
       " 'writeDustDens',\n",
       " 'writeDustTemp',\n",
       " 'writeGasDens',\n",
       " 'writeGasTemp',\n",
       " 'writeGasVel',\n",
       " 'writeVTK',\n",
       " 'writeVTurb']"
      ]
     },
     "execution_count": 43,
     "metadata": {},
     "output_type": "execute_result"
    }
   ],
   "source": [
    "dir(data)"
   ]
  },
  {
   "cell_type": "code",
   "execution_count": 44,
   "id": "891fdfef",
   "metadata": {},
   "outputs": [
    {
     "name": "stdout",
     "output_type": "stream",
     "text": [
      "<radmc3dPy.reggrid.radmc3dGrid object at 0x120592f40>\n"
     ]
    }
   ],
   "source": [
    "print(data.grid)"
   ]
  },
  {
   "cell_type": "code",
   "execution_count": 45,
   "id": "f597c26b",
   "metadata": {},
   "outputs": [
    {
     "data": {
      "text/plain": [
       "['__class__',\n",
       " '__delattr__',\n",
       " '__dict__',\n",
       " '__dir__',\n",
       " '__doc__',\n",
       " '__eq__',\n",
       " '__format__',\n",
       " '__ge__',\n",
       " '__getattribute__',\n",
       " '__gt__',\n",
       " '__hash__',\n",
       " '__init__',\n",
       " '__init_subclass__',\n",
       " '__le__',\n",
       " '__lt__',\n",
       " '__module__',\n",
       " '__ne__',\n",
       " '__new__',\n",
       " '__reduce__',\n",
       " '__reduce_ex__',\n",
       " '__repr__',\n",
       " '__setattr__',\n",
       " '__sizeof__',\n",
       " '__str__',\n",
       " '__subclasshook__',\n",
       " '__weakref__',\n",
       " 'act_dim',\n",
       " 'crd_sys',\n",
       " 'freq',\n",
       " 'getCellVolume',\n",
       " 'grid_style',\n",
       " 'makeSpatialGrid',\n",
       " 'makeWavelengthGrid',\n",
       " 'nfreq',\n",
       " 'nwav',\n",
       " 'nx',\n",
       " 'nxi',\n",
       " 'ny',\n",
       " 'nyi',\n",
       " 'nz',\n",
       " 'nzi',\n",
       " 'octree',\n",
       " 'readGrid',\n",
       " 'readSpatialGrid',\n",
       " 'readWavelengthGrid',\n",
       " 'wav',\n",
       " 'writeSpatialGrid',\n",
       " 'writeWavelengthGrid',\n",
       " 'x',\n",
       " 'xi',\n",
       " 'y',\n",
       " 'yi',\n",
       " 'z',\n",
       " 'zi']"
      ]
     },
     "execution_count": 45,
     "metadata": {},
     "output_type": "execute_result"
    }
   ],
   "source": [
    "dir(data.grid)"
   ]
  },
  {
   "cell_type": "code",
   "execution_count": 46,
   "id": "c3e9a5ce",
   "metadata": {},
   "outputs": [],
   "source": [
    "#os.chdir('/Users/Maya/Desktop/radmc3d-2.0/python/radmc3dPy/')"
   ]
  },
  {
   "cell_type": "code",
   "execution_count": 47,
   "id": "53be1f47",
   "metadata": {},
   "outputs": [
    {
     "data": {
      "image/png": "[encoded data removed]",
      "text/plain": [
       "<Figure size 432x288 with 1 Axes>"
      ]
     },
     "metadata": {
      "needs_background": "light"
     },
     "output_type": "display_data"
    }
   ],
   "source": [
    "c = plb.contourf(data.grid.x/natconst.au, np.pi/2.-data.grid.y, data.dusttemp[:,:,0,0].T, 30)"
   ]
  },
  {
   "cell_type": "code",
   "execution_count": 48,
   "id": "e94f97bd",
   "metadata": {},
   "outputs": [
    {
     "data": {
      "text/plain": [
       "<a list of 8 text.Text objects>"
      ]
     },
     "execution_count": 48,
     "metadata": {},
     "output_type": "execute_result"
    },
    {
     "data": {
      "image/png": "[encoded data removed]",
      "text/plain": [
       "<Figure size 432x288 with 1 Axes>"
      ]
     },
     "metadata": {
      "needs_background": "light"
     },
     "output_type": "display_data"
    }
   ],
   "source": [
    "plb.xlabel('r [AU]')\n",
    "plb.ylabel(r'$\\pi/2-\\theta$')\n",
    "plb.xscale('log')\n",
    "#cb = plb.colorbar(c)\n",
    "cb.set_label('T [K]', rotation=270.)\n",
    "\n",
    "c = plb.contour(data.grid.x/natconst.au, np.pi/2.-data.grid.y, data.dusttemp[:,:,0,0].T, 10,  colors='k', linestyles='solid')\n",
    "plb.clabel(c, inline=1, fontsize=10)"
   ]
  },
  {
   "cell_type": "markdown",
   "id": "e1bb28b1",
   "metadata": {},
   "source": [
    "### Convenient 2D contour plots"
   ]
  },
  {
   "cell_type": "code",
   "execution_count": 49,
   "id": "f711c78a",
   "metadata": {},
   "outputs": [
    {
     "name": "stdout",
     "output_type": "stream",
     "text": [
      "Reading dust_temperature.bdat\n",
      "Reading dust_density.binp\n"
     ]
    }
   ],
   "source": [
    "data.readDustTemp()\n",
    "data.readDustDens()"
   ]
  },
  {
   "cell_type": "code",
   "execution_count": 50,
   "id": "28b51c06",
   "metadata": {},
   "outputs": [
    {
     "name": "stdout",
     "output_type": "stream",
     "text": [
      "Reading dustkappa_silicate.inp\n",
      "Opacity at 0.50um :  28460.764433351476\n"
     ]
    },
    {
     "name": "stderr",
     "output_type": "stream",
     "text": [
      "/Users/Maya/Desktop/radmc3d-2.0/python/radmc3dPy/radmc3dPy/analyze.py:1836: MatplotlibDeprecationWarning: shading='flat' when X and Y have the same dimensions as C is deprecated since 3.3.  Either specify the corners of the quadrilaterals with X and Y, or pass shading='auto', 'nearest' or 'gouraud', or set rcParams['pcolor.shading'].  This will become an error two minor releases later.\n",
      "  p = ax.pcolormesh(plot_x, plot_y, pdata.T, norm=LogNorm(vmin, vmax), **kwargs)\n"
     ]
    },
    {
     "data": {
      "image/png": "[encoded data removed]",
      "text/plain": [
       "<Figure size 432x288 with 2 Axes>"
      ]
     },
     "metadata": {
      "needs_background": "light"
     },
     "output_type": "display_data"
    }
   ],
   "source": [
    "analyze.plotSlice2D(data, var='ddens', plane='xy', log=True, linunit='au', cmap=plb.cm.jet)\n",
    "plb.xscale('log')\n",
    "data.getTau(wav=0.5)\n",
    "analyze.plotSlice2D(data, var='taux', plane='xy', log=True, linunit='au', contours=True, clev=[1.0], clcol='w')\n",
    "analyze.plotSlice2D(data, var='dtemp', plane='xy', ispec=0, log=True, linunit='au', contours=True, clev=[150.0], clcol='k', cllabel=True)"
   ]
  },
  {
   "cell_type": "markdown",
   "id": "0a52b212",
   "metadata": {},
   "source": [
    "### Image"
   ]
  },
  {
   "cell_type": "code",
   "execution_count": 62,
   "id": "0aab3a86",
   "metadata": {},
   "outputs": [
    {
     "data": {
      "text/plain": [
       "'/Users/Maya/Desktop/radmc3d-2.0/python/radmc3dPy/python_examples/datafiles'"
      ]
     },
     "execution_count": 62,
     "metadata": {},
     "output_type": "execute_result"
    }
   ],
   "source": [
    "os.getcwd() "
   ]
  },
  {
   "cell_type": "markdown",
   "id": "7671bf0c",
   "metadata": {},
   "source": [
    "##### Make an image"
   ]
  },
  {
   "cell_type": "code",
   "execution_count": 52,
   "id": "37be7b55",
   "metadata": {},
   "outputs": [
    {
     "name": "stdout",
     "output_type": "stream",
     "text": [
      "Executing RADMC-3D Command:\n",
      "radmc3d image npix 300 incl 20.0 sizeau 300.0 lambda 2.2 phi 0.0 pointau 0.0  0.0  0.0 fluxcons\n"
     ]
    },
    {
     "data": {
      "text/plain": [
       "0"
      ]
     },
     "execution_count": 52,
     "metadata": {},
     "output_type": "execute_result"
    }
   ],
   "source": [
    "image.makeImage(npix=300., wav=2.2, incl=20., phi=0., sizeau=300.)"
   ]
  },
  {
   "cell_type": "code",
   "execution_count": 53,
   "id": "e971f7de",
   "metadata": {},
   "outputs": [
    {
     "name": "stdout",
     "output_type": "stream",
     "text": [
      "amr_grid.inp            fig-optdepth.eps        radmc3d.out\r\n",
      "dust_density.binp       image.out               stars.inp\r\n",
      "dust_temperature.bdat   molecule_co.inp         wavelength_micron.inp\r\n",
      "dustkappa_silicate.inp  problem_params.inp\r\n",
      "dustopac.inp            radmc3d.inp\r\n"
     ]
    }
   ],
   "source": [
    "ls"
   ]
  },
  {
   "cell_type": "code",
   "execution_count": 54,
   "id": "52f44fef",
   "metadata": {},
   "outputs": [
    {
     "name": "stdout",
     "output_type": "stream",
     "text": [
      "Reading image.out\n"
     ]
    }
   ],
   "source": [
    "im = image.readImage()"
   ]
  },
  {
   "cell_type": "code",
   "execution_count": 55,
   "id": "4d5bd41d",
   "metadata": {},
   "outputs": [
    {
     "data": {
      "text/plain": [
       "['__builtins__',\n",
       " '__cached__',\n",
       " '__doc__',\n",
       " '__file__',\n",
       " '__loader__',\n",
       " '__name__',\n",
       " '__package__',\n",
       " '__spec__',\n",
       " 'absolute_import',\n",
       " 'cmask',\n",
       " 'copy',\n",
       " 'getPSF',\n",
       " 'makeImage',\n",
       " 'nc',\n",
       " 'np',\n",
       " 'os',\n",
       " 'pf',\n",
       " 'plotImage',\n",
       " 'plotPolDir',\n",
       " 'plt',\n",
       " 'print_function',\n",
       " 'radmc3dCircimage',\n",
       " 'radmc3dImage',\n",
       " 'readImage',\n",
       " 'readcircimage',\n",
       " 'sp',\n",
       " 'spc',\n",
       " 'traceback']"
      ]
     },
     "execution_count": 55,
     "metadata": {},
     "output_type": "execute_result"
    }
   ],
   "source": [
    "dir(image)"
   ]
  },
  {
   "cell_type": "code",
   "execution_count": 56,
   "id": "e89e202c",
   "metadata": {},
   "outputs": [
    {
     "data": {
      "image/png": "[encoded data removed]",
      "text/plain": [
       "<Figure size 432x288 with 2 Axes>"
      ]
     },
     "metadata": {
      "needs_background": "light"
     },
     "output_type": "display_data"
    },
    {
     "data": {
      "text/plain": [
       "{'implot': <matplotlib.image.AxesImage at 0x12101ba30>,\n",
       " 'cbar': <matplotlib.colorbar.Colorbar at 0x121076790>}"
      ]
     },
     "execution_count": 56,
     "metadata": {},
     "output_type": "execute_result"
    }
   ],
   "source": [
    "image.plotImage(im, au=True, log=True, maxlog=10, saturate=0.1, cmap=plb.cm.gist_heat)"
   ]
  },
  {
   "cell_type": "markdown",
   "id": "e0b7c36d",
   "metadata": {},
   "source": [
    "Displaying the images using angular coordinates for the image axis (note distance in pc needs also to be passed):"
   ]
  },
  {
   "cell_type": "code",
   "execution_count": 57,
   "id": "90718dab",
   "metadata": {},
   "outputs": [
    {
     "data": {
      "image/png": "[encoded data removed]",
      "text/plain": [
       "<Figure size 432x288 with 2 Axes>"
      ]
     },
     "metadata": {
      "needs_background": "light"
     },
     "output_type": "display_data"
    },
    {
     "data": {
      "text/plain": [
       "{'implot': <matplotlib.image.AxesImage at 0x121238640>,\n",
       " 'cbar': <matplotlib.colorbar.Colorbar at 0x1212e9430>}"
      ]
     },
     "execution_count": 57,
     "metadata": {},
     "output_type": "execute_result"
    }
   ],
   "source": [
    "image.plotImage(im, arcsec=True, dpc=140., log=True, maxlog=10, saturate=1e-5, bunit='snu', cmap=plb.cm.gist_heat)"
   ]
  },
  {
   "cell_type": "markdown",
   "id": "58b1a60b",
   "metadata": {},
   "source": [
    "Convolving the image with an arbitrary 2D gaussian beam:"
   ]
  },
  {
   "cell_type": "code",
   "execution_count": 58,
   "id": "196f3199",
   "metadata": {},
   "outputs": [
    {
     "data": {
      "image/png": "[encoded data removed]",
      "text/plain": [
       "<Figure size 432x288 with 2 Axes>"
      ]
     },
     "metadata": {
      "needs_background": "light"
     },
     "output_type": "display_data"
    },
    {
     "data": {
      "text/plain": [
       "{'implot': <matplotlib.image.AxesImage at 0x12148a460>,\n",
       " 'cbar': <matplotlib.colorbar.Colorbar at 0x1214d6250>}"
      ]
     },
     "execution_count": 58,
     "metadata": {},
     "output_type": "execute_result"
    }
   ],
   "source": [
    "cim = im.imConv(fwhm=[0.06, 0.06], pa=0., dpc=140.)\n",
    "image.plotImage(cim, arcsec=True, dpc=140., log=True, maxlog=10, bunit='snu', cmap=plb.cm.gist_heat)"
   ]
  },
  {
   "cell_type": "markdown",
   "id": "951c9a7a",
   "metadata": {},
   "source": [
    "# read about angular resolution / convolution"
   ]
  },
  {
   "cell_type": "markdown",
   "id": "3ec97926",
   "metadata": {},
   "source": [
    "### How does gas surface density vary with respect to disk radius"
   ]
  },
  {
   "cell_type": "code",
   "execution_count": 59,
   "id": "8cb229dc",
   "metadata": {},
   "outputs": [],
   "source": [
    "radii = radmc3dPy.params.rdisk "
   ]
  },
  {
   "cell_type": "code",
   "execution_count": 425,
   "id": "4698f183",
   "metadata": {},
   "outputs": [
    {
     "data": {
      "text/plain": [
       "Text(0.5, 1.0, 'Average Surface Density vs. Radius')"
      ]
     },
     "execution_count": 425,
     "metadata": {},
     "output_type": "execute_result"
    },
    {
     "data": {
      "image/png": "[encoded data removed]",
      "text/plain": [
       "<Figure size 432x288 with 1 Axes>"
      ]
     },
     "metadata": {
      "needs_background": "light"
     },
     "output_type": "display_data"
    }
   ],
   "source": [
    "x = np.linspace(0, radii)\n",
    "#plt.plot(x, y)\n",
    "plt.xlabel('Disk Radius')\n",
    "plt.ylabel('Average Surface Density')\n",
    "plt.title('Average Surface Density vs. Radius')"
   ]
  },
  {
   "cell_type": "markdown",
   "id": "d42bd80d",
   "metadata": {},
   "source": [
    "# ignore"
   ]
  },
  {
   "cell_type": "code",
   "execution_count": 504,
   "id": "41ab65d6",
   "metadata": {},
   "outputs": [],
   "source": [
    "#radmc3dPy.analyze.writeDefaultParfile('ppdisk')\n",
    "#model = models.ppdisk\n",
    "#data = analyze.readData(dtemp=True)\n",
    "#grid = data.grid\n",
    "#ppar = data.ppar['mstar']\n",
    "#gas_density = models.ppdisk.getGasDensity(grid=grid, ppar=grid)"
   ]
  },
  {
   "cell_type": "code",
   "execution_count": 505,
   "id": "29d1f063",
   "metadata": {},
   "outputs": [],
   "source": [
    "#param_description = radmc3dPy.models.ppdisk.getDefaultParams() # param name, value, description\n",
    "#print(param_description)"
   ]
  },
  {
   "cell_type": "markdown",
   "id": "3bc0f352",
   "metadata": {},
   "source": [
    "# ignore"
   ]
  },
  {
   "cell_type": "code",
   "execution_count": 497,
   "id": "15c9d592",
   "metadata": {},
   "outputs": [],
   "source": [
    "#model = radmc3dPy.setup.radmc3dModel(model='ppdisk', mdisk='1e-5*ms', gap_rin='[10.0*au]', gap_rout='[40.*au]', gap_drfact='[1e-5]', nz='0')\n",
    "#model.writeRadmc3dInp()\n",
    "# model.setupGas() ??\n",
    "#dir(model)"
   ]
  },
  {
   "cell_type": "code",
   "execution_count": 525,
   "id": "be900209",
   "metadata": {},
   "outputs": [],
   "source": [
    "#radmc3dData_example = radmc3dPy.data.radmc3dData(grid) \n",
    "#print(radmc3dPy.data.radmc3dData.getSigmaDust(data))"
   ]
  },
  {
   "cell_type": "code",
   "execution_count": 506,
   "id": "60be89e3",
   "metadata": {},
   "outputs": [],
   "source": [
    "gas_density = models.ppdisk.getGasDensity(grid=data.grid, ppar=par.ppar) "
   ]
  },
  {
   "cell_type": "code",
   "execution_count": 527,
   "id": "d48a0bd8",
   "metadata": {},
   "outputs": [],
   "source": [
    "# print(gas_density)\n",
    "#integrate over z to get a 2d array to get it in 2d dimensions"
   ]
  },
  {
   "cell_type": "code",
   "execution_count": 528,
   "id": "9412aa62",
   "metadata": {},
   "outputs": [],
   "source": [
    "#data.getSigmaGas()\n",
    "#print(data.sigmagas)"
   ]
  },
  {
   "cell_type": "code",
   "execution_count": null,
   "id": "9fd10437",
   "metadata": {},
   "outputs": [],
   "source": [
    "#print(model.getGasDensity())\n",
    "\n",
    "#dir(models.ppdisk) data.grid \n",
    "\n",
    "#par.printPar()\n",
    "\n",
    "#dir(radmc3dPy.models.ppdisk)\n",
    "\n",
    "#models.ppdisk.getDustDensity()"
   ]
  }
 ],
 "metadata": {
  "kernelspec": {
   "display_name": "Python 3",
   "language": "python",
   "name": "python3"
  },
  "language_info": {
   "codemirror_mode": {
    "name": "ipython",
    "version": 3
   },
   "file_extension": ".py",
   "mimetype": "text/x-python",
   "name": "python",
   "nbconvert_exporter": "python",
   "pygments_lexer": "ipython3",
   "version": "3.8.0"
  }
 },
 "nbformat": 4,
 "nbformat_minor": 5
}
